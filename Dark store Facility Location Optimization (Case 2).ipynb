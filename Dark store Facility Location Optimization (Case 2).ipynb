{
 "cells": [
  {
   "cell_type": "markdown",
   "id": "8027ec3f",
   "metadata": {},
   "source": [
    "# Finding Optimal Locations for Dark Stores for quick commerce"
   ]
  },
  {
   "cell_type": "code",
   "execution_count": 6,
   "id": "94791140",
   "metadata": {},
   "outputs": [],
   "source": [
    "import numpy as np\n",
    "import matplotlib.pyplot as plt\n",
    "import gurobipy as gp\n",
    "from gurobipy import GRB\n",
    "from tqdm import tqdm\n",
    "import re"
   ]
  },
  {
   "cell_type": "code",
   "execution_count": 7,
   "id": "b14395f2",
   "metadata": {},
   "outputs": [],
   "source": [
    "np.random.seed(25)\n",
    "\n",
    "# gaussian distribution\n",
    "mean = 50  \n",
    "std_dev = 20\n",
    "x = np.random.normal(mean, std_dev, 100)\n",
    "y = np.random.normal(mean, std_dev, 100)\n",
    "\n",
    "points=np.array([x,y]).T\n",
    "\n"
   ]
  },
  {
   "cell_type": "markdown",
   "id": "7084b64b",
   "metadata": {},
   "source": [
    "## Setting up locations of customers on a map with areas of different traffic levels"
   ]
  },
  {
   "cell_type": "code",
   "execution_count": 8,
   "id": "817e7659",
   "metadata": {},
   "outputs": [
    {
     "data": {
      "image/png": "[encoded data removed]",
      "text/plain": [
       "<Figure size 640x480 with 1 Axes>"
      ]
     },
     "metadata": {},
     "output_type": "display_data"
    }
   ],
   "source": [
    "def multiplier(point):\n",
    "    centre= [50,50]\n",
    "    dist= ((point[0]-centre[0])**2 + (point[1]-centre[1])**2)**0.5\n",
    "    j=0\n",
    "    while j<dist:\n",
    "        j+=25\n",
    "    return max(2.5-j/50, 1)\n",
    "\n",
    "\n",
    "\n",
    "traffic_data={}\n",
    "for i in points:\n",
    "    traffic_data[str(i)]=multiplier(i)\n",
    "\n",
    "circle2 = plt.Circle((50, 50), 50, fill=False, color='orange')\n",
    "circle1 = plt.Circle((50, 50), 25, fill=False, color='red')\n",
    "plt.gca().add_patch(circle1)\n",
    "plt.gca().add_patch(circle2)\n",
    "\n",
    "points_t=points.T\n",
    "plt.plot(points_t[0], points_t[1], '.');\n",
    "\n",
    "plt.axis('equal')\n",
    "plt.show()"
   ]
  },
  {
   "cell_type": "markdown",
   "id": "17dcccce",
   "metadata": {},
   "source": [
    "## Defining distance and travel time functions"
   ]
  },
  {
   "cell_type": "code",
   "execution_count": 9,
   "id": "5cbe8cb1",
   "metadata": {},
   "outputs": [],
   "source": [
    "k=30# maximum distance 'k'\n",
    "\n",
    "def dist(point1, point2):\n",
    "    distance=((point1[0]-point2[0])**2 + (point1[1]-point2[1])**2)**0.5\n",
    "    return distance\n",
    "\n",
    "def path_time(point1, point2):\n",
    "\n",
    "    # case 1 (path not possible between points, since distance is too big)\n",
    "    if np.abs(traffic_data[str(point1)]-traffic_data[str(point2)])==1:\n",
    "        return 30*2\n",
    "\n",
    "    c=min(traffic_data[str(point1)], traffic_data[str(point2)])\n",
    "\n",
    "    # case 2 (both points lie in the innermost region)\n",
    "    if c==2:\n",
    "        return dist(point1, point2)*2\n",
    "\n",
    "    # case 3 (points lie in middle or outer region)\n",
    "    elif c==1.5:\n",
    "        r=25\n",
    "    elif c==1:\n",
    "        r=50\n",
    "\n",
    "\n",
    "    # FIND SOLUTION IN Y INSTEAD OF X TO AVOID INFINITY SLOPE ERROR\n",
    "    if abs(point1[0]-point2[0])>=10**(-3.5):\n",
    "        m=(point1[1]-point2[1])/(point1[0]-point2[0])\n",
    "\n",
    "# SLOPE IS INFINITE\n",
    "    else:\n",
    "        D=r**2-(point1[0]-50)**2\n",
    "\n",
    "        # case 1 (path does not intersect any circle, so return the distance multiplied by the weight)\n",
    "        if D<=0:\n",
    "            return (point1[1]-point2[1])*c\n",
    "\n",
    "        # possible intersection\n",
    "        y1=50+(r**2 - (point1[0]-50)**2)**0.5\n",
    "        y2=50-(r**2 - (point1[0]-50)**2)**0.5\n",
    "\n",
    "        if traffic_data[str(point1)]==traffic_data[str(point2)]:\n",
    "\n",
    "            # case 2 (path does not intersect any circle, so return the distance multiplied by the weight)\n",
    "            if (y1>=max(point1[1], point2[1]) or y1<=min(point1[1], point2[1])) and (y2>=max(point1[1], point2[1]) or y2<=min(point1[1], point2[1])):\n",
    "                return dist(point1, point2)*c\n",
    "\n",
    "            # case 3 (path intersects the circle at 2 points)\n",
    "            else:\n",
    "                d1= np.abs(y2-y1)\n",
    "                return (np.abs(point1[1]-point2[1])-d1)*c + d1*(c+0.5)\n",
    "\n",
    "        else:\n",
    "            if y1<=max(point1[1], point2[1]) and y1>=min(point1[1], point2[1]):\n",
    "                return abs(point1[1]-y1)*traffic_data[str(point1)] + abs(point2[1]-y1)*traffic_data[str(point2)]\n",
    "            else:\n",
    "                return abs(point1[1]-y2)*traffic_data[str(point1)] + abs(point2[1]-y2)*traffic_data[str(point2)]\n",
    "\n",
    "\n",
    "    p=m*point1[0]+50-point1[1]\n",
    "    D=(50+m*p)**2 - (1+m**2)*(p**2+50**2-r**2)\n",
    "\n",
    "\n",
    "\n",
    "\n",
    "    # case 1 (path does not intersect any circle, so return the distance multiplied by the weight)\n",
    "    if D<=0:\n",
    "        return dist(point1, point2)*c\n",
    "\n",
    "    # possible intersection\n",
    "\n",
    "    x1= (50+m*p + D**0.5)/(1+m**2)\n",
    "    x2= (50+m*p - D**0.5)/(1+m**2)\n",
    "\n",
    "    # points lie in the same traffic region\n",
    "    if traffic_data[str(point1)]==traffic_data[str(point2)]:\n",
    "\n",
    "        # case 2 (path does not intersect any circle, so return the distance multiplied by the weight)\n",
    "        if (x1>=max(point1[0], point2[0]) or x1<=min(point1[0], point2[0])) and (x2>=max(point1[0], point2[0]) or x2<=min(point1[0], point2[0])):\n",
    "            return dist(point1, point2)*c\n",
    "\n",
    "        # case 3 (path intersects the circle at 2 points)\n",
    "        else:\n",
    "            d1= dist([x1,point1[1]+m*(x1-point1[0])], [x2,point1[1]+m*(x2-point1[0])] )\n",
    "            return (dist(point1, point2)-d1)*c + d1*(c+0.5)\n",
    "\n",
    "    # points lie in adjacent traffic sections, so 1 intersection\n",
    "    # case 4 (path intersects the circle at 1 point)\n",
    "    else:\n",
    "        if x1<=max(point1[0], point2[0]) and x1>=min(point1[0], point2[0]):\n",
    "            y=point1[1]+m*(x1-point1[0])\n",
    "            x=x1\n",
    "        elif x2<=max(point1[0], point2[0]) and x2>=min(point1[0], point2[0]):\n",
    "            y=point1[1]+m*(x2-point1[0])\n",
    "            x=x2\n",
    "        return dist([x,y], point1)*traffic_data[str(point1)] + dist([x,y], point2)*traffic_data[str(point2)]\n"
   ]
  },
  {
   "cell_type": "markdown",
   "id": "27368d67",
   "metadata": {},
   "source": [
    "## Main part of the code, including the optimization function"
   ]
  },
  {
   "cell_type": "code",
   "execution_count": 10,
   "id": "b6bc5d55",
   "metadata": {},
   "outputs": [],
   "source": [
    "def add_origin(route, points, radius=k):\n",
    "    origin = route[0] # the origin for every iteration has been added to the front of the list,\n",
    "                      # so it is being extracted here\n",
    "    new_path = [origin] # origin is the first location of the new_path\n",
    "    route = route[1:]\n",
    "    route_time = 0 # initial time for route of first delivery man\n",
    "\n",
    "    while len(route) > 0: # while there are still places left on the map to deliver to\n",
    "        \n",
    "        point_time=path_time(points[new_path[-1]], points[route[0]]) # distance of next point from last point in new route\n",
    "        route_time +=point_time # path time\n",
    "\n",
    "        if route_time > radius:\n",
    "            new_path.append(origin) # start new delivery man\n",
    "            route_time = 0\n",
    "        else:\n",
    "            new_path.append(route[0])\n",
    "            route = route[1:]\n",
    "\n",
    "    new_path.append(origin)\n",
    "    return new_path\n"
   ]
  },
  {
   "cell_type": "code",
   "execution_count": 11,
   "id": "44beccbc",
   "metadata": {},
   "outputs": [],
   "source": [
    "# instead of returning length of final path, just return total deliveries in top 5, and maximise it there.\n",
    "\n",
    "def total_deliv(optimized_route, points, n=2):\n",
    "    deliveries=[]\n",
    "    new_delivery=[]\n",
    "    for i in optimized_route[1:]:\n",
    "        if i==0:\n",
    "            deliveries.append([len(new_delivery), new_delivery])\n",
    "            new_delivery=[]\n",
    "        else:\n",
    "            new_delivery.append(i)\n",
    "            \n",
    "    dels=sorted(deliveries)[::-1][:n]\n",
    "    \n",
    "    total_dels=0\n",
    "    final_path=[0]\n",
    "    for i in dels:\n",
    "        final_path+=i[1]+[0]\n",
    "        total_dels+=i[0]\n",
    "    \n",
    "    return total_dels\n"
   ]
  },
  {
   "cell_type": "code",
   "execution_count": 12,
   "id": "4a6f9fa0",
   "metadata": {},
   "outputs": [],
   "source": [
    "def two_opt(route, points):\n",
    "    n = len(route) \n",
    "    improvement = True\n",
    "\n",
    "    while improvement:\n",
    "        improvement = False\n",
    "        for i in range(1, n - 2):\n",
    "            for j in range(i + 1, n):\n",
    "                new_route = route.copy()\n",
    "                new_route[i:j] = route[j - 1 : i - 1 : -1]\n",
    "                new_customers = calculate_distance(new_route, points)[0]\n",
    "                # here the new_distance is calculated\n",
    "                # this invokes the calculate_distance function, which in turn invokes the add_origin function\n",
    "                # while calculating the distance. hence the total path length is optimized, including return \n",
    "                # visits to the origin, when the journey length is greater than 'k' kms.\n",
    "\n",
    "                if new_customers < calculate_distance(route, points)[0]: \n",
    "                    # both the new and old distances take origin visits into account\n",
    "                    route = new_route\n",
    "                    improvement = True\n",
    "\n",
    "        return route\n",
    "\n",
    "    \n",
    "def calculate_distance(route, points, go_origin=True): \n",
    "    # the go_origin parameter dictates whether we invoke the add_origin function or not\n",
    "    # we will not invoke it only in the case where we have to find the total path length, since origin visits are\n",
    "    # already included as part of the final path.\n",
    "    cust=total_deliv(route, points, n=2)\n",
    "    \n",
    "    route_time = 0\n",
    "    if go_origin==True:\n",
    "        route=add_origin(route, points)\n",
    "    n = len(route)\n",
    "\n",
    "    for i in range(n - 1):\n",
    "        route_time += path_time(points[route[i]], points[route[i+1]])\n",
    "    route_time += path_time(points[route[n-1]], points[route[0]]) \n",
    "\n",
    "    return route_time, cust"
   ]
  },
  {
   "cell_type": "markdown",
   "id": "0cb920f2",
   "metadata": {},
   "source": [
    "## Defining function for points within reachable areas, and maximum deliveries"
   ]
  },
  {
   "cell_type": "code",
   "execution_count": 13,
   "id": "73ce08cb",
   "metadata": {},
   "outputs": [],
   "source": [
    "def points_in_radius(points, origin, radius=k): # function to find the points within 'k' minutes from origin\n",
    "    in_radius=[]\n",
    "    for i in points:\n",
    "        if path_time(origin, i)<=radius:\n",
    "            in_radius.append(list(i))\n",
    "    return (in_radius)\n",
    "\n",
    "def total_deliveries(optimized_route, points, n=2):\n",
    "    deliveries=[]\n",
    "    new_delivery=[]\n",
    "    for i in optimized_route[1:]:\n",
    "        if i==0:\n",
    "            deliveries.append([len(new_delivery), new_delivery])\n",
    "            new_delivery=[]\n",
    "        else:\n",
    "            new_delivery.append(i)\n",
    "            \n",
    "    dels=sorted(deliveries)[::-1][:n]\n",
    "    \n",
    "    total_dels=0\n",
    "    final_path=[0]\n",
    "    for i in dels:\n",
    "        final_path+=i[1]+[0]\n",
    "        total_dels+=i[0]\n",
    "    \n",
    "    return points[final_path], calculate_distance(final_path, points, go_origin=False), total_dels\n"
   ]
  },
  {
   "cell_type": "markdown",
   "id": "79ebd1bd",
   "metadata": {},
   "source": [
    "## Dummy run for the code"
   ]
  },
  {
   "cell_type": "code",
   "execution_count": 14,
   "id": "39609632",
   "metadata": {},
   "outputs": [
    {
     "data": {
      "image/png": "[encoded data removed]",
      "text/plain": [
       "<Figure size 640x480 with 1 Axes>"
      ]
     },
     "metadata": {},
     "output_type": "display_data"
    }
   ],
   "source": [
    "origin=np.array([40.1,40.1])\n",
    "traffic_data[str(origin)]=multiplier(origin)\n",
    "p= np.array([origin]+points_in_radius(points, origin))\n",
    "initial_route = [i for i in range(len(p))]\n",
    "\n",
    "optimized_route = add_origin(two_opt(initial_route, p), p)\n",
    "pt=p[optimized_route]\n",
    "\n",
    "path_final, time, dels=total_deliveries(optimized_route, p, n=5)\n",
    "# plt.plot(points_t[0], points_t[1], '.');\n",
    "plt.plot(pt.T[0], pt.T[1], '.-');\n",
    "plt.plot(path_final.T[0], path_final.T[1], '.-');\n",
    "# plt.plot(90.1, 90.1,'o');\n",
    "\n",
    "circle2 = plt.Circle((50, 50), 50, fill=False, color='orange')\n",
    "circle1 = plt.Circle((50, 50), 25, fill=False, color='red')\n",
    "# plt.gca().add_patch(circle1)\n",
    "# plt.gca().add_patch(circle2)\n",
    "\n",
    "\n",
    "plt.axis('equal')\n",
    "plt.show()"
   ]
  },
  {
   "cell_type": "markdown",
   "id": "a4f533d7",
   "metadata": {},
   "source": [
    "## Function for running the code on a full map"
   ]
  },
  {
   "cell_type": "code",
   "execution_count": 15,
   "id": "d0bc84b0",
   "metadata": {},
   "outputs": [],
   "source": [
    "def find_location(traffic_data, points, grid_divisions, grid):\n",
    "    customers={}\n",
    "\n",
    "    h0,k0,l0=grid # centre of grid and length of grid\n",
    "\n",
    "    for i in tqdm(range(grid_divisions+1)):\n",
    "        for j in range(grid_divisions+1):\n",
    "            origin=np.array([i* l0/grid_divisions + h0-l0/2 +(0.1**5) , j* l0/grid_divisions + k0-l0/2 +(0.1**5)])\n",
    "            traffic_data[str(origin)]=multiplier(origin)\n",
    "            zone= np.array([origin]+points_in_radius(points, origin))\n",
    "\n",
    "            initial_route = [i for i in range(len(zone))]\n",
    "\n",
    "            optimized_route = add_origin(two_opt(initial_route, zone), zone)\n",
    "            pt, path_time, total_dels=total_deliveries(optimized_route, zone, n=5)\n",
    "            customers[str([origin[0],origin[1]])]=[total_dels, -path_time]\n",
    "\n",
    "    return customers\n",
    "\n"
   ]
  },
  {
   "cell_type": "markdown",
   "id": "98041c69",
   "metadata": {},
   "source": [
    "## Main function "
   ]
  },
  {
   "cell_type": "code",
   "execution_count": 16,
   "id": "4005d1b0",
   "metadata": {},
   "outputs": [],
   "source": [
    "def traversal(traffic_data,points):\n",
    "\n",
    "    locations = find_location(traffic_data, points, 10, [50,50,100])\n",
    "    locations = sorted(locations, key=locations.get)[::-1]\n",
    "    \n",
    "    top_4_locations=[]\n",
    "    for key in locations:\n",
    "        if len(top_4_locations)==2:\n",
    "            break\n",
    "        top_4_locations.append([float(i) for i in key[1:-1].split(',')])\n",
    "\n",
    "    final_locs={}\n",
    "    for i in top_4_locations:\n",
    "        locations=find_location(traffic_data, points, 5, [i[0],i[1],20])\n",
    "        final_locs.update(locations)\n",
    "\n",
    "    warehouse_location=max(zip(final_locs.values(), final_locs.keys()))[1]\n",
    "    warehouse_location=np.array([float(i)+0.1**5 for i in warehouse_location[1:-1].split(',')])\n",
    "\n",
    "    traffic_data[str(warehouse_location)]=multiplier(warehouse_location)\n",
    "    zone= np.array([warehouse_location]+points_in_radius(points, warehouse_location))\n",
    "\n",
    "    initial_route = [i for i in range(len(zone))]\n",
    "\n",
    "    optimized_route = add_origin(two_opt(initial_route, zone), zone)\n",
    "    pt, path_time, total_dels=total_deliveries(optimized_route, zone, n=5)\n",
    "    \n",
    "\n",
    "    \n",
    "    return warehouse_location, pt"
   ]
  },
  {
   "cell_type": "code",
   "execution_count": 17,
   "id": "49e9509e",
   "metadata": {},
   "outputs": [],
   "source": [
    "import time\n"
   ]
  },
  {
   "cell_type": "code",
   "execution_count": 18,
   "id": "7d3242ee",
   "metadata": {},
   "outputs": [
    {
     "name": "stderr",
     "output_type": "stream",
     "text": [
      "  0%|                                                    | 0/11 [00:00<?, ?it/s]\n"
     ]
    },
    {
     "ename": "TypeError",
     "evalue": "bad operand type for unary -: 'tuple'",
     "output_type": "error",
     "traceback": [
      "\u001b[0;31m---------------------------------------------------------------------------\u001b[0m",
      "\u001b[0;31mTypeError\u001b[0m                                 Traceback (most recent call last)",
      "Cell \u001b[0;32mIn[18], line 16\u001b[0m\n\u001b[1;32m     12\u001b[0m     traffic_data[\u001b[38;5;28mstr\u001b[39m(i)]\u001b[38;5;241m=\u001b[39mmultiplier(i)\n\u001b[1;32m     15\u001b[0m t1\u001b[38;5;241m=\u001b[39mtime\u001b[38;5;241m.\u001b[39mtime()\n\u001b[0;32m---> 16\u001b[0m warehouse_location1, customers1 \u001b[38;5;241m=\u001b[39m \u001b[43mtraversal\u001b[49m\u001b[43m(\u001b[49m\u001b[43mtraffic_data\u001b[49m\u001b[43m,\u001b[49m\u001b[43mpoints\u001b[49m\u001b[43m)\u001b[49m\n\u001b[1;32m     17\u001b[0m \u001b[38;5;28mprint\u001b[39m(\u001b[38;5;124m\"\u001b[39m\u001b[38;5;124mTIME REQ\u001b[39m\u001b[38;5;124m\"\u001b[39m,time\u001b[38;5;241m.\u001b[39mtime()\u001b[38;5;241m-\u001b[39mt1)\n",
      "Cell \u001b[0;32mIn[16], line 3\u001b[0m, in \u001b[0;36mtraversal\u001b[0;34m(traffic_data, points)\u001b[0m\n\u001b[1;32m      1\u001b[0m \u001b[38;5;28;01mdef\u001b[39;00m \u001b[38;5;21mtraversal\u001b[39m(traffic_data,points):\n\u001b[0;32m----> 3\u001b[0m     locations \u001b[38;5;241m=\u001b[39m \u001b[43mfind_location\u001b[49m\u001b[43m(\u001b[49m\u001b[43mtraffic_data\u001b[49m\u001b[43m,\u001b[49m\u001b[43m \u001b[49m\u001b[43mpoints\u001b[49m\u001b[43m,\u001b[49m\u001b[43m \u001b[49m\u001b[38;5;241;43m10\u001b[39;49m\u001b[43m,\u001b[49m\u001b[43m \u001b[49m\u001b[43m[\u001b[49m\u001b[38;5;241;43m50\u001b[39;49m\u001b[43m,\u001b[49m\u001b[38;5;241;43m50\u001b[39;49m\u001b[43m,\u001b[49m\u001b[38;5;241;43m100\u001b[39;49m\u001b[43m]\u001b[49m\u001b[43m)\u001b[49m\n\u001b[1;32m      4\u001b[0m     locations \u001b[38;5;241m=\u001b[39m \u001b[38;5;28msorted\u001b[39m(locations, key\u001b[38;5;241m=\u001b[39mlocations\u001b[38;5;241m.\u001b[39mget)[::\u001b[38;5;241m-\u001b[39m\u001b[38;5;241m1\u001b[39m]\n\u001b[1;32m      6\u001b[0m     top_4_locations\u001b[38;5;241m=\u001b[39m[]\n",
      "Cell \u001b[0;32mIn[15], line 16\u001b[0m, in \u001b[0;36mfind_location\u001b[0;34m(traffic_data, points, grid_divisions, grid)\u001b[0m\n\u001b[1;32m     14\u001b[0m         optimized_route \u001b[38;5;241m=\u001b[39m add_origin(two_opt(initial_route, zone), zone)\n\u001b[1;32m     15\u001b[0m         pt, path_time, total_dels\u001b[38;5;241m=\u001b[39mtotal_deliveries(optimized_route, zone, n\u001b[38;5;241m=\u001b[39m\u001b[38;5;241m5\u001b[39m)\n\u001b[0;32m---> 16\u001b[0m         customers[\u001b[38;5;28mstr\u001b[39m([origin[\u001b[38;5;241m0\u001b[39m],origin[\u001b[38;5;241m1\u001b[39m]])]\u001b[38;5;241m=\u001b[39m[total_dels, \u001b[38;5;241;43m-\u001b[39;49m\u001b[43mpath_time\u001b[49m]\n\u001b[1;32m     18\u001b[0m \u001b[38;5;28;01mreturn\u001b[39;00m customers\n",
      "\u001b[0;31mTypeError\u001b[0m: bad operand type for unary -: 'tuple'"
     ]
    }
   ],
   "source": [
    "np.random.seed(0)\n",
    "\n",
    "mean = 50  \n",
    "std_dev = 20\n",
    "x = np.random.normal(mean, std_dev, 50)\n",
    "y = np.random.normal(mean, std_dev, 50)\n",
    "\n",
    "points=np.array([x,y]).T\n",
    "\n",
    "traffic_data={}\n",
    "for i in points:\n",
    "    traffic_data[str(i)]=multiplier(i)\n",
    "\n",
    "    \n",
    "t1=time.time()\n",
    "warehouse_location1, customers1 = traversal(traffic_data,points)\n",
    "print(\"TIME REQ\",time.time()-t1)"
   ]
  },
  {
   "cell_type": "code",
   "execution_count": 194,
   "id": "0b04a3a6",
   "metadata": {},
   "outputs": [],
   "source": [
    "\n",
    "list_of_points=set(tuple(i) for i in points)\n",
    "points_to_remove = set(tuple(i) for i in customers1)\n",
    "remaining_points = [point for point in list_of_points if point not in points_to_remove]\n",
    "remaining_points = np.array(remaining_points)\n"
   ]
  },
  {
   "cell_type": "code",
   "execution_count": 197,
   "id": "0ec1e4b7",
   "metadata": {},
   "outputs": [
    {
     "name": "stderr",
     "output_type": "stream",
     "text": [
      "100%|███████████████████████████████████████████| 11/11 [00:28<00:00,  2.58s/it]\n",
      "100%|█████████████████████████████████████████████| 6/6 [00:20<00:00,  3.47s/it]\n",
      "100%|█████████████████████████████████████████████| 6/6 [00:25<00:00,  4.33s/it]\n"
     ]
    }
   ],
   "source": [
    "warehouse_location2, customers2 = traversal(traffic_data, remaining_points)\n"
   ]
  },
  {
   "cell_type": "code",
   "execution_count": 198,
   "id": "d96baace",
   "metadata": {},
   "outputs": [],
   "source": [
    "list_of_points=set(tuple(i) for i in remaining_points)\n",
    "points_to_remove = set(tuple(i) for i in customers2)\n",
    "remaining_points2 = [point for point in list_of_points if point not in points_to_remove]\n",
    "remaining_points2 = np.array(remaining_points2)\n"
   ]
  },
  {
   "cell_type": "code",
   "execution_count": 127,
   "id": "82b0cd2f",
   "metadata": {},
   "outputs": [
    {
     "name": "stderr",
     "output_type": "stream",
     "text": [
      "100%|███████████████████████████████████████████| 11/11 [03:53<00:00, 21.23s/it]\n",
      "100%|█████████████████████████████████████████████| 6/6 [00:03<00:00,  1.56it/s]\n",
      "100%|█████████████████████████████████████████████| 6/6 [00:03<00:00,  1.81it/s]\n"
     ]
    }
   ],
   "source": [
    "warehouse_location3, customers3 = traversal(traffic_data, remaining_points2)\n"
   ]
  },
  {
   "cell_type": "code",
   "execution_count": 128,
   "id": "c36355f2",
   "metadata": {},
   "outputs": [],
   "source": [
    "list_of_points=set(tuple(i) for i in remaining_points2)\n",
    "points_to_remove = set(tuple(i) for i in customers3)\n",
    "remaining_points3 = [point for point in list_of_points if point not in points_to_remove]\n",
    "remaining_points3 = np.array(remaining_points3)\n"
   ]
  },
  {
   "cell_type": "code",
   "execution_count": 199,
   "id": "cecd3efa",
   "metadata": {},
   "outputs": [
    {
     "data": {
      "image/png": "[encoded data removed]",
      "text/plain": [
       "<Figure size 640x480 with 1 Axes>"
      ]
     },
     "metadata": {},
     "output_type": "display_data"
    }
   ],
   "source": [
    "plt.plot(remaining_points2.T[0], remaining_points2.T[1], '.');\n",
    "# plt.plot(points.T[0], points.T[1], '.');\n",
    "plt.plot(customers1.T[0], customers1.T[1], '.-');\n",
    "plt.plot(customers2.T[0], customers2.T[1], '.-');\n",
    "# plt.plot(customers3.T[0], customers3.T[1], '.-');\n",
    "\n",
    "\n",
    "circle2 = plt.Circle((50, 50), 50, fill=False, color='orange')\n",
    "circle1 = plt.Circle((50, 50), 25, fill=False, color='red')\n",
    "plt.gca().add_patch(circle1)\n",
    "plt.gca().add_patch(circle2)\n",
    "\n",
    "\n",
    "plt.axis('equal')\n",
    "plt.show()"
   ]
  },
  {
   "cell_type": "code",
   "execution_count": 132,
   "id": "f0dfb52e",
   "metadata": {},
   "outputs": [
    {
     "data": {
      "text/plain": [
       "(15, 2)"
      ]
     },
     "execution_count": 132,
     "metadata": {},
     "output_type": "execute_result"
    }
   ],
   "source": [
    "customers3.shape"
   ]
  },
  {
   "cell_type": "code",
   "execution_count": 136,
   "id": "5a7ec823",
   "metadata": {},
   "outputs": [
    {
     "data": {
      "text/plain": [
       "(20, 2)"
      ]
     },
     "execution_count": 136,
     "metadata": {},
     "output_type": "execute_result"
    }
   ],
   "source": [
    "customers1.shape"
   ]
  },
  {
   "cell_type": "code",
   "execution_count": null,
   "id": "6fa54e7e",
   "metadata": {},
   "outputs": [],
   "source": [
    "cust"
   ]
  }
 ],
 "metadata": {
  "kernelspec": {
   "display_name": "Python 3 (ipykernel)",
   "language": "python",
   "name": "python3"
  },
  "language_info": {
   "codemirror_mode": {
    "name": "ipython",
    "version": 3
   },
   "file_extension": ".py",
   "mimetype": "text/x-python",
   "name": "python",
   "nbconvert_exporter": "python",
   "pygments_lexer": "ipython3",
   "version": "3.11.3"
  }
 },
 "nbformat": 4,
 "nbformat_minor": 5
}

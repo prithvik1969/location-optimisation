{
 "cells": [
  {
   "cell_type": "markdown",
   "id": "8027ec3f",
   "metadata": {},
   "source": [
    "# Finding Optimal Locations for Dark Stores for quick commerce"
   ]
  },
  {
   "cell_type": "code",
   "execution_count": 2,
   "id": "94791140",
   "metadata": {},
   "outputs": [],
   "source": [
    "import numpy as np\n",
    "import matplotlib.pyplot as plt\n",
    "import gurobipy as gp\n",
    "from gurobipy import GRB\n",
    "from tqdm import tqdm\n",
    "import re"
   ]
  },
  {
   "cell_type": "code",
   "execution_count": 5,
   "id": "b14395f2",
   "metadata": {},
   "outputs": [],
   "source": [
    "np.random.seed(0)\n",
    "\n",
    "# uniformly distributed points\n",
    "points=100*np.random.random((200, 2))\n",
    "\n"
   ]
  },
  {
   "cell_type": "markdown",
   "id": "7084b64b",
   "metadata": {},
   "source": [
    "## Setting up locations of customers on a map with areas of uniform traffic level"
   ]
  },
  {
   "cell_type": "code",
   "execution_count": 6,
   "id": "817e7659",
   "metadata": {},
   "outputs": [
    {
     "data": {
      "image/png": "[encoded data removed]",
      "text/plain": [
       "<Figure size 640x480 with 1 Axes>"
      ]
     },
     "metadata": {},
     "output_type": "display_data"
    }
   ],
   "source": [
    "\n",
    "points_t=points.T\n",
    "plt.plot(points_t[0], points_t[1], '.');\n",
    "\n",
    "plt.axis('equal')\n",
    "plt.show()"
   ]
  },
  {
   "cell_type": "markdown",
   "id": "17dcccce",
   "metadata": {},
   "source": [
    "## Defining distance and travel time functions"
   ]
  },
  {
   "cell_type": "code",
   "execution_count": 31,
   "id": "5cbe8cb1",
   "metadata": {},
   "outputs": [],
   "source": [
    "k=20# maximum distance 'k'\n",
    "\n",
    "def dist(point1, point2):\n",
    "    distance=((point1[0]-point2[0])**2 + (point1[1]-point2[1])**2)**0.5\n",
    "    return distance\n",
    "\n"
   ]
  },
  {
   "cell_type": "markdown",
   "id": "27368d67",
   "metadata": {},
   "source": [
    "## Main part of the code, including the optimization function"
   ]
  },
  {
   "cell_type": "code",
   "execution_count": 32,
   "id": "b6bc5d55",
   "metadata": {},
   "outputs": [],
   "source": [
    "def add_origin(route, points, radius=k):\n",
    "    origin = route[0] # the origin for every iteration has been added to the front of the list,\n",
    "                      # so it is being extracted here\n",
    "    new_path = [origin] # origin is the first location of the new_path\n",
    "    route = route[1:]\n",
    "    route_time = 0 # initial time for route of first delivery man\n",
    "\n",
    "    while len(route) > 0: # while there are still places left on the map to deliver to\n",
    "        \n",
    "        point_time=dist(points[new_path[-1]], points[route[0]]) # distance of next point from last point in new route\n",
    "        route_time +=point_time # path time\n",
    "\n",
    "        if route_time > radius:\n",
    "            new_path.append(origin) # start new delivery man\n",
    "            route_time = 0\n",
    "        else:\n",
    "            new_path.append(route[0])\n",
    "            route = route[1:]\n",
    "\n",
    "    new_path.append(origin)\n",
    "    return new_path\n"
   ]
  },
  {
   "cell_type": "code",
   "execution_count": 33,
   "id": "4a6f9fa0",
   "metadata": {},
   "outputs": [],
   "source": [
    "def two_opt(route, points):\n",
    "    n = len(route) \n",
    "    improvement = True\n",
    "\n",
    "    while improvement:\n",
    "        improvement = False\n",
    "        for i in range(1, n - 2):\n",
    "            for j in range(i + 1, n):\n",
    "                new_route = route.copy()\n",
    "                new_route[i:j] = route[j - 1 : i - 1 : -1]\n",
    "                new_distance = calculate_distance(new_route, points) \n",
    "                # here the new_distance is calculated\n",
    "                # this invokes the calculate_distance function, which in turn invokes the add_origin function\n",
    "                # while calculating the distance. hence the total path length is optimized, including return \n",
    "                # visits to the origin, when the journey length is greater than 'k' kms.\n",
    "\n",
    "                if new_distance < calculate_distance(route, points): \n",
    "                    # both the new and old distances take origin visits into account\n",
    "                    route = new_route\n",
    "                    improvement = True\n",
    "\n",
    "        return route\n",
    "\n",
    "    \n",
    "def calculate_distance(route, points, go_origin=True): \n",
    "    # the go_origin parameter dictates whether we invoke the add_origin function or not\n",
    "    # we will not invoke it only in the case where we have to find the total path length, since origin visits are\n",
    "    # already included as part of the final path.\n",
    "    route_time = 0\n",
    "    if go_origin==True:\n",
    "        route=add_origin(route, points)\n",
    "    n = len(route)\n",
    "\n",
    "    for i in range(n - 1):\n",
    "        route_time += dist(points[route[i]], points[route[i+1]])\n",
    "    route_time += dist(points[route[n-1]], points[route[0]]) \n",
    "\n",
    "    return route_time"
   ]
  },
  {
   "cell_type": "markdown",
   "id": "0cb920f2",
   "metadata": {},
   "source": [
    "## Defining function for points within reachable areas, and maximum deliveries"
   ]
  },
  {
   "cell_type": "code",
   "execution_count": 34,
   "id": "73ce08cb",
   "metadata": {},
   "outputs": [],
   "source": [
    "def points_in_radius(points, origin, radius=k): # function to find the points within 'k' minutes from origin\n",
    "    in_radius=[]\n",
    "    for i in points:\n",
    "        if dist(origin, i)<=radius:\n",
    "            in_radius.append(list(i))\n",
    "    return (in_radius)\n",
    "\n",
    "def total_deliveries(optimized_route, points, n=5):\n",
    "    deliveries=[]\n",
    "    new_delivery=[]\n",
    "    for i in optimized_route[1:]:\n",
    "        if i==0:\n",
    "            deliveries.append([len(new_delivery), new_delivery])\n",
    "            new_delivery=[]\n",
    "        else:\n",
    "            new_delivery.append(i)\n",
    "            \n",
    "    dels=sorted(deliveries)[::-1][:n]\n",
    "    \n",
    "    total_dels=0\n",
    "    final_path=[0]\n",
    "    for i in dels:\n",
    "        final_path+=i[1]+[0]\n",
    "        total_dels+=i[0]\n",
    "    \n",
    "    return points[final_path], calculate_distance(final_path, points, go_origin=False), total_dels\n"
   ]
  },
  {
   "cell_type": "markdown",
   "id": "79ebd1bd",
   "metadata": {},
   "source": [
    "## Dummy run for the code"
   ]
  },
  {
   "cell_type": "code",
   "execution_count": 35,
   "id": "39609632",
   "metadata": {},
   "outputs": [
    {
     "data": {
      "image/png": "[encoded data removed]",
      "text/plain": [
       "<Figure size 640x480 with 1 Axes>"
      ]
     },
     "metadata": {},
     "output_type": "display_data"
    }
   ],
   "source": [
    "origin=np.array([40.1,40.1])\n",
    "p= np.array([origin]+points_in_radius(points, origin))\n",
    "initial_route = [i for i in range(len(p))]\n",
    "\n",
    "optimized_route = add_origin(two_opt(initial_route, p), p)\n",
    "pt=p[optimized_route]\n",
    "\n",
    "path_final, time, dels=total_deliveries(optimized_route, p, n=5)\n",
    "plt.plot(points_t[0], points_t[1], '.');\n",
    "plt.plot(pt.T[0], pt.T[1], '.');\n",
    "plt.plot(path_final.T[0], path_final.T[1], '.-');\n",
    "# plt.plot(90.1, 90.1,'o');\n",
    "\n",
    "circle2 = plt.Circle((50, 50), 50, fill=False, color='orange')\n",
    "circle1 = plt.Circle((50, 50), 25, fill=False, color='red')\n",
    "# plt.gca().add_patch(circle1)\n",
    "# plt.gca().add_patch(circle2)\n",
    "\n",
    "\n",
    "plt.axis('equal')\n",
    "plt.show()"
   ]
  },
  {
   "cell_type": "markdown",
   "id": "a4f533d7",
   "metadata": {},
   "source": [
    "## Function for running the code on a full map"
   ]
  },
  {
   "cell_type": "code",
   "execution_count": 36,
   "id": "d0bc84b0",
   "metadata": {},
   "outputs": [],
   "source": [
    "def find_location( points, grid_divisions, grid):\n",
    "    customers={}\n",
    "\n",
    "    h0,k0,l0=grid # centre of grid and length of grid\n",
    "\n",
    "    for i in tqdm(range(grid_divisions+1)):\n",
    "        for j in range(grid_divisions+1):\n",
    "            origin=np.array([i* l0/grid_divisions + h0-l0/2 +(0.1**5) , j* l0/grid_divisions + k0-l0/2 +(0.1**5)])\n",
    "            zone= np.array([origin]+points_in_radius(points, origin))\n",
    "\n",
    "            initial_route = [i for i in range(len(zone))]\n",
    "\n",
    "            optimized_route = add_origin(two_opt(initial_route, zone), zone)\n",
    "            pt, path_time, total_dels=total_deliveries(optimized_route, zone, n=5)\n",
    "            customers[str([origin[0],origin[1]])]=[total_dels, -path_time]\n",
    "\n",
    "    return customers\n",
    "\n"
   ]
  },
  {
   "cell_type": "markdown",
   "id": "98041c69",
   "metadata": {},
   "source": [
    "## Main function "
   ]
  },
  {
   "cell_type": "code",
   "execution_count": 37,
   "id": "4005d1b0",
   "metadata": {},
   "outputs": [],
   "source": [
    "def traversal(points):\n",
    "\n",
    "    locations = find_location( points, 10, [50,50,100])\n",
    "    locations = sorted(locations, key=locations.get)[::-1]\n",
    "    \n",
    "    top_4_locations=[]\n",
    "    for key in locations:\n",
    "        if len(top_4_locations)==2:\n",
    "            break\n",
    "        top_4_locations.append([float(i) for i in key[1:-1].split(',')])\n",
    "\n",
    "    final_locs={}\n",
    "    for i in top_4_locations:\n",
    "        locations=find_location( points, 5, [i[0],i[1],20])\n",
    "        final_locs.update(locations)\n",
    "\n",
    "    warehouse_location=max(zip(final_locs.values(), final_locs.keys()))[1]\n",
    "    warehouse_location=np.array([float(i)+0.1**5 for i in warehouse_location[1:-1].split(',')])\n",
    "\n",
    "    zone= np.array([warehouse_location]+points_in_radius(points, warehouse_location))\n",
    "\n",
    "    initial_route = [i for i in range(len(zone))]\n",
    "\n",
    "    optimized_route = add_origin(two_opt(initial_route, zone), zone)\n",
    "    pt, path_time, total_dels=total_deliveries(optimized_route, zone, n=5)\n",
    "    \n",
    "\n",
    "    \n",
    "    return warehouse_location, pt"
   ]
  },
  {
   "cell_type": "code",
   "execution_count": 38,
   "id": "ec16586d",
   "metadata": {},
   "outputs": [],
   "source": [
    "import time\n"
   ]
  },
  {
   "cell_type": "code",
   "execution_count": null,
   "id": "e150721a",
   "metadata": {},
   "outputs": [],
   "source": []
  },
  {
   "cell_type": "code",
   "execution_count": 51,
   "id": "7d3242ee",
   "metadata": {},
   "outputs": [
    {
     "name": "stderr",
     "output_type": "stream",
     "text": [
      "100%|███████████████████████████████████████████| 11/11 [00:00<00:00, 28.34it/s]\n",
      "100%|█████████████████████████████████████████████| 6/6 [00:00<00:00, 17.76it/s]\n",
      "100%|█████████████████████████████████████████████| 6/6 [00:00<00:00, 30.50it/s]\n"
     ]
    },
    {
     "name": "stdout",
     "output_type": "stream",
     "text": [
      "0.9465258121490479\n"
     ]
    }
   ],
   "source": [
    "\n",
    "# 100\n",
    "np.random.seed(7)\n",
    "points=100*np.random.random((100, 2))\n",
    "\n",
    "t1=time.time()\n",
    "warehouse_location1, customers1 = traversal(points)\n",
    "print(time.time()-t1)"
   ]
  },
  {
   "cell_type": "code",
   "execution_count": 45,
   "id": "4a8db836",
   "metadata": {},
   "outputs": [
    {
     "name": "stderr",
     "output_type": "stream",
     "text": [
      "100%|███████████████████████████████████████████| 11/11 [00:02<00:00,  4.45it/s]\n",
      "100%|█████████████████████████████████████████████| 6/6 [00:01<00:00,  5.13it/s]\n",
      "100%|█████████████████████████████████████████████| 6/6 [00:02<00:00,  2.05it/s]"
     ]
    },
    {
     "name": "stdout",
     "output_type": "stream",
     "text": [
      "6.607539176940918\n"
     ]
    },
    {
     "name": "stderr",
     "output_type": "stream",
     "text": [
      "\n"
     ]
    }
   ],
   "source": [
    "# 200\n",
    "np.random.seed(4)\n",
    "points=100*np.random.random((200, 2))\n",
    "\n",
    "t1=time.time()\n",
    "warehouse_location1, customers1 = traversal(points)\n",
    "print(time.time()-t1)"
   ]
  },
  {
   "cell_type": "code",
   "execution_count": 42,
   "id": "bd44c71f",
   "metadata": {},
   "outputs": [
    {
     "name": "stderr",
     "output_type": "stream",
     "text": [
      "100%|███████████████████████████████████████████| 11/11 [00:17<00:00,  1.58s/it]\n",
      "100%|█████████████████████████████████████████████| 6/6 [00:05<00:00,  1.12it/s]\n",
      "100%|█████████████████████████████████████████████| 6/6 [00:10<00:00,  1.78s/it]\n"
     ]
    },
    {
     "name": "stdout",
     "output_type": "stream",
     "text": [
      "33.69085383415222\n"
     ]
    }
   ],
   "source": [
    "\n",
    "# 400\n",
    "np.random.seed(1)\n",
    "points=100*np.random.random((400, 2))\n",
    "\n",
    "t1=time.time()\n",
    "warehouse_location1, customers1 = traversal(points)\n",
    "print(time.time()-t1)"
   ]
  },
  {
   "cell_type": "code",
   "execution_count": 56,
   "id": "0b04a3a6",
   "metadata": {},
   "outputs": [],
   "source": [
    "\n",
    "list_of_points=set(tuple(i) for i in points)\n",
    "points_to_remove = set(tuple(i) for i in customers1)\n",
    "remaining_points = [point for point in list_of_points if point not in points_to_remove]\n",
    "remaining_points = np.array(remaining_points)\n"
   ]
  },
  {
   "cell_type": "code",
   "execution_count": 57,
   "id": "0ec1e4b7",
   "metadata": {},
   "outputs": [
    {
     "name": "stderr",
     "output_type": "stream",
     "text": [
      "100%|███████████████████████████████████████████| 11/11 [00:00<00:00, 57.83it/s]\n",
      "100%|█████████████████████████████████████████████| 6/6 [00:00<00:00, 28.79it/s]\n",
      "100%|█████████████████████████████████████████████| 6/6 [00:00<00:00, 46.51it/s]\n"
     ]
    }
   ],
   "source": [
    "warehouse_location2, customers2 = traversal( remaining_points)\n"
   ]
  },
  {
   "cell_type": "code",
   "execution_count": 58,
   "id": "d96baace",
   "metadata": {},
   "outputs": [],
   "source": [
    "list_of_points=set(tuple(i) for i in remaining_points)\n",
    "points_to_remove = set(tuple(i) for i in customers2)\n",
    "remaining_points2 = [point for point in list_of_points if point not in points_to_remove]\n",
    "remaining_points2 = np.array(remaining_points2)\n"
   ]
  },
  {
   "cell_type": "code",
   "execution_count": 59,
   "id": "82b0cd2f",
   "metadata": {},
   "outputs": [
    {
     "name": "stderr",
     "output_type": "stream",
     "text": [
      "100%|███████████████████████████████████████████| 11/11 [00:00<00:00, 86.41it/s]\n",
      "100%|█████████████████████████████████████████████| 6/6 [00:00<00:00, 75.89it/s]\n",
      "100%|█████████████████████████████████████████████| 6/6 [00:00<00:00, 61.03it/s]\n"
     ]
    }
   ],
   "source": [
    "warehouse_location3, customers3 = traversal( remaining_points2)\n"
   ]
  },
  {
   "cell_type": "code",
   "execution_count": 60,
   "id": "c36355f2",
   "metadata": {},
   "outputs": [],
   "source": [
    "list_of_points=set(tuple(i) for i in remaining_points2)\n",
    "points_to_remove = set(tuple(i) for i in customers3)\n",
    "remaining_points3 = [point for point in list_of_points if point not in points_to_remove]\n",
    "remaining_points3 = np.array(remaining_points3)\n"
   ]
  },
  {
   "cell_type": "code",
   "execution_count": 61,
   "id": "cecd3efa",
   "metadata": {},
   "outputs": [
    {
     "data": {
      "image/png": "[encoded data removed]",
      "text/plain": [
       "<Figure size 640x480 with 1 Axes>"
      ]
     },
     "metadata": {},
     "output_type": "display_data"
    }
   ],
   "source": [
    "plt.plot(remaining_points2.T[0], remaining_points2.T[1], '.');\n",
    "# plt.plot(points.T[0], points.T[1], '.');\n",
    "plt.plot(customers1.T[0], customers1.T[1], '.-');\n",
    "plt.plot(customers2.T[0], customers2.T[1], '.-');\n",
    "plt.plot(customers3.T[0], customers3.T[1], '.-');\n",
    "\n",
    "\n",
    "circle2 = plt.Circle((50, 50), 50, fill=False, color='orange')\n",
    "circle1 = plt.Circle((50, 50), 25, fill=False, color='red')\n",
    "plt.gca().add_patch(circle1)\n",
    "plt.gca().add_patch(circle2)\n",
    "\n",
    "\n",
    "plt.axis('equal')\n",
    "plt.show()"
   ]
  },
  {
   "cell_type": "code",
   "execution_count": null,
   "id": "5c71d52a",
   "metadata": {},
   "outputs": [],
   "source": []
  },
  {
   "cell_type": "code",
   "execution_count": 1,
   "id": "2523d3fa",
   "metadata": {},
   "outputs": [],
   "source": [
    "# case 1 : constant travel times"
   ]
  },
  {
   "cell_type": "code",
   "execution_count": 2,
   "id": "bba76933",
   "metadata": {},
   "outputs": [],
   "source": [
    "# case 2 : different travel times"
   ]
  },
  {
   "cell_type": "code",
   "execution_count": 3,
   "id": "b5da39a5",
   "metadata": {},
   "outputs": [],
   "source": [
    "# case 3 : different travel times with gaussian dist"
   ]
  },
  {
   "cell_type": "code",
   "execution_count": null,
   "id": "ba06c5a6",
   "metadata": {},
   "outputs": [],
   "source": []
  }
 ],
 "metadata": {
  "kernelspec": {
   "display_name": "Python 3 (ipykernel)",
   "language": "python",
   "name": "python3"
  },
  "language_info": {
   "codemirror_mode": {
    "name": "ipython",
    "version": 3
   },
   "file_extension": ".py",
   "mimetype": "text/x-python",
   "name": "python",
   "nbconvert_exporter": "python",
   "pygments_lexer": "ipython3",
   "version": "3.11.3"
  }
 },
 "nbformat": 4,
 "nbformat_minor": 5
}
